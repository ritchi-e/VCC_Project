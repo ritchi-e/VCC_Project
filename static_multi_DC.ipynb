{
  "nbformat": 4,
  "nbformat_minor": 0,
  "metadata": {
    "colab": {
      "provenance": []
    },
    "kernelspec": {
      "name": "python3",
      "display_name": "Python 3"
    },
    "language_info": {
      "name": "python"
    }
  },
  "cells": [
    {
      "cell_type": "code",
      "execution_count": null,
      "metadata": {
        "id": "eVq0DOMECpQr"
      },
      "outputs": [],
      "source": [
        "user_regions = [\"Asia\", \"Europe\", \"America\"]\n",
        "data_centers = {\n",
        "    \"DC-Asia\": {\"region\": \"Asia\"},\n",
        "    \"DC-Europe\": {\"region\": \"Europe\"},\n",
        "    \"DC-America\": {\"region\": \"America\"}\n",
        "}\n"
      ]
    },
    {
      "cell_type": "code",
      "source": [
        "def route_request(user_region):\n",
        "    # Basic 1-to-1 mapping\n",
        "    return {\n",
        "        \"Asia\": \"DC-Asia\",\n",
        "        \"Europe\": \"DC-Europe\",\n",
        "        \"America\": \"DC-America\"\n",
        "    }[user_region]\n"
      ],
      "metadata": {
        "id": "AXxk9eKyCwXp"
      },
      "execution_count": null,
      "outputs": []
    },
    {
      "cell_type": "code",
      "source": [
        "import random\n",
        "import time\n",
        "import threading\n",
        "from queue import Queue\n",
        "\n",
        "class DataCenter:\n",
        "    def __init__(self, name):\n",
        "        self.name = name\n",
        "        self.queue = Queue()\n",
        "        self.total_response_time = 0\n",
        "        self.total_requests = 0\n",
        "\n",
        "    def process_requests(self):\n",
        "        while True:\n",
        "            req = self.queue.get()\n",
        "            response_time = random.uniform(0.2, 1.0)  # Simulate time\n",
        "            time.sleep(response_time)\n",
        "            self.total_response_time += response_time\n",
        "            self.total_requests += 1\n",
        "            print(f\"{self.name} served {req} in {response_time:.2f} sec\", flush=True)\n",
        "\n"
      ],
      "metadata": {
        "id": "ZCleYb2DCya0"
      },
      "execution_count": null,
      "outputs": []
    },
    {
      "cell_type": "code",
      "source": [
        "def user_simulator(region, data_centers):\n",
        "    for i in range(10):\n",
        "        request_id = f\"{region}-REQ{i}\"\n",
        "        dc_name = route_request(region)\n",
        "        data_centers[dc_name].queue.put(request_id)\n",
        "        time.sleep(random.uniform(0.1, 0.3))\n"
      ],
      "metadata": {
        "id": "aaYP-zm5C0-5"
      },
      "execution_count": null,
      "outputs": []
    },
    {
      "cell_type": "code",
      "source": [
        "# Create DC objects\n",
        "dc_objects = {name: DataCenter(name) for name in data_centers}\n",
        "\n",
        "# Start DC processing threads\n",
        "for dc in dc_objects.values():\n",
        "    threading.Thread(target=dc.process_requests, daemon=True).start()\n",
        "\n",
        "# Start user threads\n",
        "for region in user_regions:\n",
        "    threading.Thread(target=user_simulator, args=(region, dc_objects)).start()\n"
      ],
      "metadata": {
        "id": "4Ox9Pt0aC2-e"
      },
      "execution_count": null,
      "outputs": []
    },
    {
      "cell_type": "code",
      "source": [
        "import matplotlib.pyplot as plt\n",
        "\n",
        "# Wait for all processing to finish\n",
        "time.sleep(10)\n",
        "\n",
        "# Collect data\n",
        "names = []\n",
        "requests_handled = []\n",
        "avg_response = []\n",
        "\n",
        "for dc in dc_objects.values():\n",
        "    names.append(dc.name)\n",
        "    requests_handled.append(dc.total_requests)\n",
        "    avg = dc.total_response_time / dc.total_requests if dc.total_requests else 0\n",
        "    avg_response.append(avg)\n",
        "\n",
        "# Plot\n",
        "plt.bar(names, avg_response)\n",
        "plt.ylabel(\"Average Response Time (sec)\")\n",
        "plt.title(\"Multi-DC Response Time Comparison\")\n",
        "plt.show()\n"
      ],
      "metadata": {
        "id": "xADyfCXDC6AN"
      },
      "execution_count": null,
      "outputs": []
    }
  ]
}